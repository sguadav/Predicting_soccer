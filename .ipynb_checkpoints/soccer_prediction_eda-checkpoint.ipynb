{
 "cells": [
  {
   "cell_type": "code",
   "execution_count": 34,
   "metadata": {},
   "outputs": [],
   "source": [
    "import pandas as pd\n",
    "import matplotlib.pyplot as plt\n",
    "import seaborn as sns"
   ]
  },
  {
   "cell_type": "code",
   "execution_count": 35,
   "metadata": {},
   "outputs": [
    {
     "data": {
      "text/html": [
       "<div>\n",
       "<style scoped>\n",
       "    .dataframe tbody tr th:only-of-type {\n",
       "        vertical-align: middle;\n",
       "    }\n",
       "\n",
       "    .dataframe tbody tr th {\n",
       "        vertical-align: top;\n",
       "    }\n",
       "\n",
       "    .dataframe thead th {\n",
       "        text-align: right;\n",
       "    }\n",
       "</style>\n",
       "<table border=\"1\" class=\"dataframe\">\n",
       "  <thead>\n",
       "    <tr style=\"text-align: right;\">\n",
       "      <th></th>\n",
       "      <th>Unnamed: 0</th>\n",
       "      <th>Team_1</th>\n",
       "      <th>Team_2</th>\n",
       "      <th>League_Rank_1</th>\n",
       "      <th>League_Rank_2</th>\n",
       "      <th>Games_played_1</th>\n",
       "      <th>Games_played_2</th>\n",
       "      <th>Points_1</th>\n",
       "      <th>Points_2</th>\n",
       "      <th>Won_1</th>\n",
       "      <th>...</th>\n",
       "      <th>Results_1</th>\n",
       "      <th>Results_2</th>\n",
       "      <th>H2H_Side</th>\n",
       "      <th>H2H_Outcome</th>\n",
       "      <th>H2H_Goals_Home</th>\n",
       "      <th>H2H_Goals_Away</th>\n",
       "      <th>Goals_scored_diff</th>\n",
       "      <th>Goals_Rec_diff</th>\n",
       "      <th>Goals_Diff_diff</th>\n",
       "      <th>Diff_Goal_Match</th>\n",
       "    </tr>\n",
       "  </thead>\n",
       "  <tbody>\n",
       "    <tr>\n",
       "      <td>0</td>\n",
       "      <td>0</td>\n",
       "      <td>manchester c</td>\n",
       "      <td>liverpool</td>\n",
       "      <td>3</td>\n",
       "      <td>1</td>\n",
       "      <td>20</td>\n",
       "      <td>20</td>\n",
       "      <td>47</td>\n",
       "      <td>54</td>\n",
       "      <td>15</td>\n",
       "      <td>...</td>\n",
       "      <td>2</td>\n",
       "      <td>1</td>\n",
       "      <td>A</td>\n",
       "      <td>D</td>\n",
       "      <td>0</td>\n",
       "      <td>0</td>\n",
       "      <td>6</td>\n",
       "      <td>8</td>\n",
       "      <td>-2</td>\n",
       "      <td>1</td>\n",
       "    </tr>\n",
       "    <tr>\n",
       "      <td>1</td>\n",
       "      <td>1</td>\n",
       "      <td>newcastle</td>\n",
       "      <td>manchester u</td>\n",
       "      <td>15</td>\n",
       "      <td>6</td>\n",
       "      <td>20</td>\n",
       "      <td>20</td>\n",
       "      <td>18</td>\n",
       "      <td>35</td>\n",
       "      <td>4</td>\n",
       "      <td>...</td>\n",
       "      <td>0</td>\n",
       "      <td>2</td>\n",
       "      <td>A</td>\n",
       "      <td>L</td>\n",
       "      <td>2</td>\n",
       "      <td>3</td>\n",
       "      <td>-26</td>\n",
       "      <td>-5</td>\n",
       "      <td>-21</td>\n",
       "      <td>-2</td>\n",
       "    </tr>\n",
       "    <tr>\n",
       "      <td>2</td>\n",
       "      <td>2</td>\n",
       "      <td>brighton</td>\n",
       "      <td>liverpool</td>\n",
       "      <td>13</td>\n",
       "      <td>1</td>\n",
       "      <td>21</td>\n",
       "      <td>21</td>\n",
       "      <td>26</td>\n",
       "      <td>54</td>\n",
       "      <td>7</td>\n",
       "      <td>...</td>\n",
       "      <td>0</td>\n",
       "      <td>1</td>\n",
       "      <td>A</td>\n",
       "      <td>L</td>\n",
       "      <td>0</td>\n",
       "      <td>1</td>\n",
       "      <td>-25</td>\n",
       "      <td>19</td>\n",
       "      <td>-44</td>\n",
       "      <td>-1</td>\n",
       "    </tr>\n",
       "    <tr>\n",
       "      <td>3</td>\n",
       "      <td>3</td>\n",
       "      <td>manchester united</td>\n",
       "      <td>brighton and hove albion</td>\n",
       "      <td>6</td>\n",
       "      <td>13</td>\n",
       "      <td>22</td>\n",
       "      <td>22</td>\n",
       "      <td>41</td>\n",
       "      <td>26</td>\n",
       "      <td>12</td>\n",
       "      <td>...</td>\n",
       "      <td>2</td>\n",
       "      <td>1</td>\n",
       "      <td>A</td>\n",
       "      <td>L</td>\n",
       "      <td>2</td>\n",
       "      <td>3</td>\n",
       "      <td>20</td>\n",
       "      <td>2</td>\n",
       "      <td>18</td>\n",
       "      <td>1</td>\n",
       "    </tr>\n",
       "    <tr>\n",
       "      <td>4</td>\n",
       "      <td>4</td>\n",
       "      <td>chelsea</td>\n",
       "      <td>newcastle</td>\n",
       "      <td>4</td>\n",
       "      <td>15</td>\n",
       "      <td>21</td>\n",
       "      <td>21</td>\n",
       "      <td>44</td>\n",
       "      <td>18</td>\n",
       "      <td>13</td>\n",
       "      <td>...</td>\n",
       "      <td>2</td>\n",
       "      <td>1</td>\n",
       "      <td>A</td>\n",
       "      <td>W</td>\n",
       "      <td>2</td>\n",
       "      <td>1</td>\n",
       "      <td>23</td>\n",
       "      <td>-13</td>\n",
       "      <td>36</td>\n",
       "      <td>1</td>\n",
       "    </tr>\n",
       "  </tbody>\n",
       "</table>\n",
       "<p>5 rows × 36 columns</p>\n",
       "</div>"
      ],
      "text/plain": [
       "   Unnamed: 0             Team_1                    Team_2  League_Rank_1  \\\n",
       "0           0       manchester c                 liverpool              3   \n",
       "1           1          newcastle              manchester u             15   \n",
       "2           2           brighton                 liverpool             13   \n",
       "3           3  manchester united  brighton and hove albion              6   \n",
       "4           4            chelsea                 newcastle              4   \n",
       "\n",
       "   League_Rank_2  Games_played_1  Games_played_2  Points_1  Points_2  Won_1  \\\n",
       "0              1              20              20        47        54     15   \n",
       "1              6              20              20        18        35      4   \n",
       "2              1              21              21        26        54      7   \n",
       "3             13              22              22        41        26     12   \n",
       "4             15              21              21        44        18     13   \n",
       "\n",
       "   ...  Results_1  Results_2  H2H_Side  H2H_Outcome  H2H_Goals_Home  \\\n",
       "0  ...          2          1         A            D               0   \n",
       "1  ...          0          2         A            L               2   \n",
       "2  ...          0          1         A            L               0   \n",
       "3  ...          2          1         A            L               2   \n",
       "4  ...          2          1         A            W               2   \n",
       "\n",
       "   H2H_Goals_Away  Goals_scored_diff  Goals_Rec_diff  Goals_Diff_diff  \\\n",
       "0               0                  6               8               -2   \n",
       "1               3                -26              -5              -21   \n",
       "2               1                -25              19              -44   \n",
       "3               3                 20               2               18   \n",
       "4               1                 23             -13               36   \n",
       "\n",
       "   Diff_Goal_Match  \n",
       "0                1  \n",
       "1               -2  \n",
       "2               -1  \n",
       "3                1  \n",
       "4                1  \n",
       "\n",
       "[5 rows x 36 columns]"
      ]
     },
     "execution_count": 35,
     "metadata": {},
     "output_type": "execute_result"
    }
   ],
   "source": [
    "df_premier = pd.read_csv('cleaned_data\\Premier_league.csv')\n",
    "df_premier.head()"
   ]
  },
  {
   "cell_type": "code",
   "execution_count": 48,
   "metadata": {},
   "outputs": [
    {
     "data": {
      "text/plain": [
       "Index(['Unnamed: 0', 'Team_1', 'Team_2', 'League_Rank_1', 'League_Rank_2',\n",
       "       'Games_played_1', 'Games_played_2', 'Points_1', 'Points_2', 'Won_1',\n",
       "       'Draw_1', 'Lost_1', 'Won_2', 'Draw_2', 'Lost_2', 'Goals_Scored_1',\n",
       "       'Goals_Scored_2', 'Goals_Rec_1', 'Goal_Rec_2', 'Goals_Diff_1',\n",
       "       'Goals_Diff_2', 'League_type_country', 'Large_Diff_win', 'Won_out_of_6',\n",
       "       'Avrage_FT_Goal', 'Average_HT_Goal', 'Results_1', 'Results_2',\n",
       "       'H2H_Side', 'H2H_Outcome', 'H2H_Goals_Home', 'H2H_Goals_Away',\n",
       "       'Goals_scored_diff', 'Goals_Rec_diff', 'Goals_Diff_diff',\n",
       "       'Diff_Goal_Match'],\n",
       "      dtype='object')"
      ]
     },
     "execution_count": 48,
     "metadata": {},
     "output_type": "execute_result"
    }
   ],
   "source": [
    "df_premier.columns"
   ]
  },
  {
   "cell_type": "code",
   "execution_count": 37,
   "metadata": {},
   "outputs": [
    {
     "data": {
      "text/plain": [
       "<matplotlib.legend.Legend at 0x2773b93e188>"
      ]
     },
     "execution_count": 37,
     "metadata": {},
     "output_type": "execute_result"
    },
    {
     "data": {
      "image/png": "[encoded data removed]",
      "text/plain": [
       "<Figure size 432x288 with 1 Axes>"
      ]
     },
     "metadata": {
      "needs_background": "light"
     },
     "output_type": "display_data"
    }
   ],
   "source": [
    "home_team = df_premier['Results_1']\n",
    "away_team = df_premier['Results_2']\n",
    "plt.hist([home_team, away_team], label=(\"Home Team Goals\", \"Away Team Goals\"))\n",
    "plt.legend()"
   ]
  },
  {
   "cell_type": "code",
   "execution_count": 38,
   "metadata": {},
   "outputs": [
    {
     "data": {
      "text/plain": [
       "<matplotlib.axes._subplots.AxesSubplot at 0x2773b958948>"
      ]
     },
     "execution_count": 38,
     "metadata": {},
     "output_type": "execute_result"
    },
    {
     "data": {
      "image/png": "[encoded data removed]",
      "text/plain": [
       "<Figure size 432x288 with 1 Axes>"
      ]
     },
     "metadata": {
      "needs_background": "light"
     },
     "output_type": "display_data"
    }
   ],
   "source": [
    "df_premier.boxplot(column = ['Results_1', 'Results_2'])"
   ]
  },
  {
   "cell_type": "code",
   "execution_count": 51,
   "metadata": {},
   "outputs": [
    {
     "data": {
      "text/plain": [
       "Text(0.5, 0, 'Diff_Goal_Match')"
      ]
     },
     "execution_count": 51,
     "metadata": {},
     "output_type": "execute_result"
    },
    {
     "data": {
      "image/png": "[encoded data removed]",
      "text/plain": [
       "<Figure size 432x288 with 1 Axes>"
      ]
     },
     "metadata": {
      "needs_background": "light"
     },
     "output_type": "display_data"
    }
   ],
   "source": [
    "df_premier['Diff_Goal_Match'].plot.hist()\n",
    "plt.xlabel('Diff_Goal_Match')"
   ]
  },
  {
   "cell_type": "code",
   "execution_count": 52,
   "metadata": {},
   "outputs": [
    {
     "data": {
      "text/plain": [
       "Text(0.5, 0, 'Goals_scored_diff')"
      ]
     },
     "execution_count": 52,
     "metadata": {},
     "output_type": "execute_result"
    },
    {
     "data": {
      "image/png": "[encoded data removed]",
      "text/plain": [
       "<Figure size 432x288 with 1 Axes>"
      ]
     },
     "metadata": {
      "needs_background": "light"
     },
     "output_type": "display_data"
    }
   ],
   "source": [
    "df_premier['Goals_scored_diff'].plot.hist()\n",
    "plt.xlabel('Goals_scored_diff')"
   ]
  },
  {
   "cell_type": "code",
   "execution_count": 53,
   "metadata": {},
   "outputs": [
    {
     "data": {
      "text/plain": [
       "Text(0.5, 0, 'Goals_Rec_diff')"
      ]
     },
     "execution_count": 53,
     "metadata": {},
     "output_type": "execute_result"
    },
    {
     "data": {
      "image/png": "[encoded data removed]",
      "text/plain": [
       "<Figure size 432x288 with 1 Axes>"
      ]
     },
     "metadata": {
      "needs_background": "light"
     },
     "output_type": "display_data"
    }
   ],
   "source": [
    "df_premier['Goals_Rec_diff'].plot.hist()\n",
    "plt.xlabel('Goals_Rec_diff')"
   ]
  },
  {
   "cell_type": "code",
   "execution_count": 54,
   "metadata": {},
   "outputs": [
    {
     "data": {
      "text/plain": [
       "Text(0.5, 0, 'Goals_Diff_diff')"
      ]
     },
     "execution_count": 54,
     "metadata": {},
     "output_type": "execute_result"
    },
    {
     "data": {
      "image/png": "[encoded data removed]",
      "text/plain": [
       "<Figure size 432x288 with 1 Axes>"
      ]
     },
     "metadata": {
      "needs_background": "light"
     },
     "output_type": "display_data"
    }
   ],
   "source": [
    "df_premier['Goals_Diff_diff'].plot.hist()\n",
    "plt.xlabel('Goals_Diff_diff')"
   ]
  },
  {
   "cell_type": "markdown",
   "metadata": {},
   "source": [
    "**EDA Observations Pt.1**\n",
    "\n",
    "As we can see, the final score for the Home Team ('Results_1') is greater than the Away Team ('Results_2') which matches with the initial prediction. This means that, in average, the Home Team has a greater advantage compared to the Away side when it comes to winning a match, which can determine how the fanbase and stadium might affect a team's performance when playing. \n",
    "\n",
    "Looking at the histograms, we can see how the final goals scored by the Home Team is in average greater than the Away Team. We can see that the Result for of one goal for the Home Team is about the same frequency as the Away Team, but the distribution for more than one goal is less while for zero goals is way higher for the Away Team.\n",
    "\n",
    "For the boxplots, we can see that IQR for the Home Team (Results_1) is smaller in size but greater in value, ranging from 1 to 2, while the Away Team (Results_2) is greater in size but in value it ranges from 0 to 2. This matches with the great frequency of zeros shown in the histogram, as well as the Quartile 1 for the Away Team to be at zero. Given that the Away Team has a bigger IQR, the Maximum is the box plot is bigger than the Home Team, which leads to outliers only at 6 goals, while the Home Team's outliers are considered 4, 5 and 6 goals. However, we will not be rulling out outliers in this model.\n"
   ]
  },
  {
   "cell_type": "code",
   "execution_count": 42,
   "metadata": {},
   "outputs": [
    {
     "data": {
      "text/plain": [
       "Index(['Unnamed: 0', 'Team_1', 'Team_2', 'League_Rank_1', 'League_Rank_2',\n",
       "       'Games_played_1', 'Games_played_2', 'Points_1', 'Points_2', 'Won_1',\n",
       "       'Draw_1', 'Lost_1', 'Won_2', 'Draw_2', 'Lost_2', 'Goals_Scored_1',\n",
       "       'Goals_Scored_2', 'Goals_Rec_1', 'Goal_Rec_2', 'Goals_Diff_1',\n",
       "       'Goals_Diff_2', 'League_type_country', 'Large_Diff_win', 'Won_out_of_6',\n",
       "       'Avrage_FT_Goal', 'Average_HT_Goal', 'Results_1', 'Results_2',\n",
       "       'H2H_Side', 'H2H_Outcome', 'H2H_Goals_Home', 'H2H_Goals_Away',\n",
       "       'Goals_scored_diff', 'Goals_Rec_diff', 'Goals_Diff_diff',\n",
       "       'Diff_Goal_Match'],\n",
       "      dtype='object')"
      ]
     },
     "execution_count": 42,
     "metadata": {},
     "output_type": "execute_result"
    }
   ],
   "source": [
    "df_premier.columns"
   ]
  },
  {
   "cell_type": "code",
   "execution_count": 55,
   "metadata": {},
   "outputs": [],
   "source": [
    "corr_Home = df_premier[['Results_1', 'League_Rank_1', 'Goals_Scored_1', 'Goals_Rec_1', 'Goals_Diff_1', 'H2H_Goals_Home']].corr()"
   ]
  },
  {
   "cell_type": "code",
   "execution_count": 56,
   "metadata": {},
   "outputs": [],
   "source": [
    "corr_Away = df_premier[['Results_2', 'League_Rank_2', 'Goals_Scored_2', 'Goal_Rec_2', 'Goals_Diff_2', 'H2H_Goals_Away']].corr()"
   ]
  },
  {
   "cell_type": "code",
   "execution_count": 45,
   "metadata": {},
   "outputs": [
    {
     "data": {
      "text/plain": [
       "<matplotlib.axes._subplots.AxesSubplot at 0x2773bc6af88>"
      ]
     },
     "execution_count": 45,
     "metadata": {},
     "output_type": "execute_result"
    },
    {
     "data": {
      "image/png": "[encoded data removed]",
      "text/plain": [
       "<Figure size 432x288 with 2 Axes>"
      ]
     },
     "metadata": {
      "needs_background": "light"
     },
     "output_type": "display_data"
    }
   ],
   "source": [
    "cmap = sns.diverging_palette(220,10, as_cmap=True) \n",
    "sns.heatmap(corr_Home, vmax=0.7, center=0, cmap=cmap, square=True, \n",
    "            linewidth=1, cbar_kws={\"shrink\": 0.6})"
   ]
  },
  {
   "cell_type": "code",
   "execution_count": 46,
   "metadata": {},
   "outputs": [
    {
     "data": {
      "text/plain": [
       "<matplotlib.axes._subplots.AxesSubplot at 0x2773bd3f3c8>"
      ]
     },
     "execution_count": 46,
     "metadata": {},
     "output_type": "execute_result"
    },
    {
     "data": {
      "image/png": "[encoded data removed]",
      "text/plain": [
       "<Figure size 432x288 with 2 Axes>"
      ]
     },
     "metadata": {
      "needs_background": "light"
     },
     "output_type": "display_data"
    }
   ],
   "source": [
    "sns.heatmap(corr_Away, vmax=0.7, center=0, cmap=cmap, square=True, \n",
    "            linewidth=0.5, cbar_kws={\"shrink\": 0.6})"
   ]
  },
  {
   "cell_type": "markdown",
   "metadata": {},
   "source": [
    "**EDA Observations Pt.2**\n",
    "\n",
    "The negative correlation occurs when a number decrease one increases. So, if a team is ranked higher (low number), then the goal difference should increase leading to a negati correlation.\n",
    "\n",
    "We can se how for the both Results sections, which is the area we are interested in, we can see that there is a significant correlation with the goal difference (Goals_Diff) and the previous match goals (H2H_Goals). There is a less significant relationship with the total scored goals in the season (Goals_Scored). And there is a negative correlation with the received goals (Goal_Rec) and the league rank (League_Rank). For soccer fans, this makes a lot of sense."
   ]
  },
  {
   "cell_type": "code",
   "execution_count": 58,
   "metadata": {},
   "outputs": [
    {
     "data": {
      "text/plain": [
       "Index(['Unnamed: 0', 'Team_1', 'Team_2', 'League_Rank_1', 'League_Rank_2',\n",
       "       'Games_played_1', 'Games_played_2', 'Points_1', 'Points_2', 'Won_1',\n",
       "       'Draw_1', 'Lost_1', 'Won_2', 'Draw_2', 'Lost_2', 'Goals_Scored_1',\n",
       "       'Goals_Scored_2', 'Goals_Rec_1', 'Goal_Rec_2', 'Goals_Diff_1',\n",
       "       'Goals_Diff_2', 'League_type_country', 'Large_Diff_win', 'Won_out_of_6',\n",
       "       'Avrage_FT_Goal', 'Average_HT_Goal', 'Results_1', 'Results_2',\n",
       "       'H2H_Side', 'H2H_Outcome', 'H2H_Goals_Home', 'H2H_Goals_Away',\n",
       "       'Goals_scored_diff', 'Goals_Rec_diff', 'Goals_Diff_diff',\n",
       "       'Diff_Goal_Match'],\n",
       "      dtype='object')"
      ]
     },
     "execution_count": 58,
     "metadata": {},
     "output_type": "execute_result"
    }
   ],
   "source": [
    "df_premier.columns"
   ]
  },
  {
   "cell_type": "code",
   "execution_count": 61,
   "metadata": {},
   "outputs": [],
   "source": [
    "df_premier_eda = df_premier[['Results_1', 'Results_2', 'League_Rank_1', 'League_Rank_2', 'Goals_Scored_1', 'Goals_Scored_2', 'Goals_Rec_1', 'Goal_Rec_2', 'Goals_Diff_1', 'Goals_Diff_2', 'H2H_Goals_Home', 'H2H_Goals_Away', 'Diff_Goal_Match']]"
   ]
  },
  {
   "cell_type": "code",
   "execution_count": 64,
   "metadata": {},
   "outputs": [],
   "source": [
    "df_premier_eda.to_csv('eda_data\\Premier_eda_data.csv')"
   ]
  }
 ],
 "metadata": {
  "kernelspec": {
   "display_name": "Python 3",
   "language": "python",
   "name": "python3"
  },
  "language_info": {
   "codemirror_mode": {
    "name": "ipython",
    "version": 3
   },
   "file_extension": ".py",
   "mimetype": "text/x-python",
   "name": "python",
   "nbconvert_exporter": "python",
   "pygments_lexer": "ipython3",
   "version": "3.7.4"
  }
 },
 "nbformat": 4,
 "nbformat_minor": 2
}
